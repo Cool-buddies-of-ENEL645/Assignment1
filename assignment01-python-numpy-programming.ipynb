{
 "cells": [
  {
   "cell_type": "markdown",
   "metadata": {},
   "source": [
    "# Assignment #01\n",
    "\n",
    "This assignment is composed of multiple Python and NumPy programming exercises. The deliverable of this assignment is this jupyter-notebook completed with your solution.\n",
    "\n",
    "The delivery instructions are the following:\n",
    "    - Create a GitHub repository for your team. You are free to choose its name. This repository will be used to delvier the programming assignments and the code of your team's final project.\n",
    "    - Create a folder assignment-01 in the repository. Put the jupyter-notebook with your solution in this repository and post the repository link in your team's D2L dropbox for the assignment.\n",
    "\n",
    "You are being assessed based on:\n",
    "\n",
    "1. Code execution - 25% \n",
    "2. Clarity of the code (e.g., easy to follow, has pertinent comments, etc.) - 25%\n",
    "3. Proper usage of the techniques seen in class - 25%\n",
    "    - remember to avoid explicit Python loops!  \n",
    "4. Quality and correcteness of the results - 25%\n",
    "\n",
    "More details about the assessment are available in the rubric document in the class GitHub repository.\n",
    "\n",
    "Points distribution:\n",
    "- Question 2-21: 3 points per question \n",
    "- Questions 22-26: 8 points per question (total 40)\n",
    "- Total: 100 ponits"
   ]
  },
  {
   "cell_type": "code",
   "execution_count": 5,
   "id": "0e54cf90",
   "metadata": {},
   "outputs": [],
   "source": [
    "import matplotlib.pylab as plt"
   ]
  },
  {
   "cell_type": "markdown",
   "metadata": {},
   "source": [
    "**1. Import the numpy package under the name np**"
   ]
  },
  {
   "cell_type": "code",
   "execution_count": 6,
   "id": "0a393686",
   "metadata": {},
   "outputs": [],
   "source": [
    "import numpy as np"
   ]
  },
  {
   "cell_type": "markdown",
   "metadata": {},
   "source": [
    "**2. Print the numpy version and the configuration**"
   ]
  },
  {
   "cell_type": "code",
   "execution_count": 7,
   "id": "ef019355",
   "metadata": {},
   "outputs": [
    {
     "name": "stdout",
     "output_type": "stream",
     "text": [
      "1.20.3\n",
      "blas_mkl_info:\n",
      "    libraries = ['mkl_rt']\n",
      "    library_dirs = ['C:/Users/fatem/anaconda3/envs/enel645\\\\Library\\\\lib']\n",
      "    define_macros = [('SCIPY_MKL_H', None), ('HAVE_CBLAS', None)]\n",
      "    include_dirs = ['C:/Users/fatem/anaconda3/envs/enel645\\\\Library\\\\include']\n",
      "blas_opt_info:\n",
      "    libraries = ['mkl_rt']\n",
      "    library_dirs = ['C:/Users/fatem/anaconda3/envs/enel645\\\\Library\\\\lib']\n",
      "    define_macros = [('SCIPY_MKL_H', None), ('HAVE_CBLAS', None)]\n",
      "    include_dirs = ['C:/Users/fatem/anaconda3/envs/enel645\\\\Library\\\\include']\n",
      "lapack_mkl_info:\n",
      "    libraries = ['mkl_rt']\n",
      "    library_dirs = ['C:/Users/fatem/anaconda3/envs/enel645\\\\Library\\\\lib']\n",
      "    define_macros = [('SCIPY_MKL_H', None), ('HAVE_CBLAS', None)]\n",
      "    include_dirs = ['C:/Users/fatem/anaconda3/envs/enel645\\\\Library\\\\include']\n",
      "lapack_opt_info:\n",
      "    libraries = ['mkl_rt']\n",
      "    library_dirs = ['C:/Users/fatem/anaconda3/envs/enel645\\\\Library\\\\lib']\n",
      "    define_macros = [('SCIPY_MKL_H', None), ('HAVE_CBLAS', None)]\n",
      "    include_dirs = ['C:/Users/fatem/anaconda3/envs/enel645\\\\Library\\\\include']\n"
     ]
    }
   ],
   "source": [
    "print(np.__version__)\n",
    "np.show_config()"
   ]
  },
  {
   "cell_type": "markdown",
   "id": "255e4fe8",
   "metadata": {},
   "source": [
    "**3. Create a 1D array of zeros of size 10 of type float32**"
   ]
  },
  {
   "cell_type": "code",
   "execution_count": 9,
   "id": "920fda44",
   "metadata": {},
   "outputs": [
    {
     "name": "stdout",
     "output_type": "stream",
     "text": [
      "1D array of zeros of size 10 of type float32: \n",
      " [0. 0. 0. 0. 0. 0. 0. 0. 0. 0.]\n"
     ]
    }
   ],
   "source": [
    "array = np.zeros(10, dtype=np.float32)\n",
    "print(\"1D array of zeros of size 10 of type float32: \\n\", array)"
   ]
  },
  {
   "cell_type": "markdown",
   "metadata": {},
   "source": [
    "**4. Print the memory size of the array below**"
   ]
  },
  {
   "cell_type": "code",
   "execution_count": 10,
   "id": "95568832",
   "metadata": {},
   "outputs": [
    {
     "name": "stdout",
     "output_type": "stream",
     "text": [
      "memory size of the array: 3072 bytes\n"
     ]
    }
   ],
   "source": [
    "Z = np.zeros((32,12))\n",
    "# Include your solution below\n",
    "print(\"memory size of the array: %d bytes\" % (Z.size * Z.itemsize))"
   ]
  },
  {
   "cell_type": "markdown",
   "metadata": {},
   "source": [
    "**5. Create a 1D array with values ranging from 10 to 58**"
   ]
  },
  {
   "cell_type": "code",
   "execution_count": 11,
   "id": "32ae94b6",
   "metadata": {},
   "outputs": [
    {
     "name": "stdout",
     "output_type": "stream",
     "text": [
      "1D array with values ranging from 10 to 58: \n",
      " [10 11 12 13 14 15 16 17 18 19 20 21 22 23 24 25 26 27 28 29 30 31 32 33\n",
      " 34 35 36 37 38 39 40 41 42 43 44 45 46 47 48 49 50 51 52 53 54 55 56 57\n",
      " 58]\n"
     ]
    }
   ],
   "source": [
    "array = np.arange(10,59)\n",
    "print(\"1D array with values ranging from 10 to 58: \\n\", array)"
   ]
  },
  {
   "cell_type": "markdown",
   "metadata": {},
   "source": [
    "**6. Reverse the order of the values in the vector (first element becomes last)**"
   ]
  },
  {
   "cell_type": "code",
   "execution_count": 12,
   "id": "2cfb6045",
   "metadata": {},
   "outputs": [
    {
     "name": "stdout",
     "output_type": "stream",
     "text": [
      "Original vector: \n",
      " [0 1 2 3 4 5 6 7 8 9]\n",
      "Reversed vector: \n",
      " [9 8 7 6 5 4 3 2 1 0]\n"
     ]
    }
   ],
   "source": [
    "a = np.arange(10)\n",
    "print(\"Original vector: \\n\", a)\n",
    "# Include your solution below\n",
    "reversed_vector = a[::-1]\n",
    "print(\"Reversed vector: \\n\", reversed_vector)"
   ]
  },
  {
   "cell_type": "markdown",
   "metadata": {},
   "source": [
    "**7. Create a 3x3 matrix with values ranging from 0 to 8**"
   ]
  },
  {
   "cell_type": "code",
   "execution_count": 13,
   "id": "b0935590",
   "metadata": {},
   "outputs": [
    {
     "name": "stdout",
     "output_type": "stream",
     "text": [
      "A 3x3 matrix with values ranging from 0 to 8: \n",
      " [[0 1 2]\n",
      " [3 4 5]\n",
      " [6 7 8]]\n"
     ]
    }
   ],
   "source": [
    "matrix = np.arange(9).reshape(3, 3)\n",
    "print(\"A 3x3 matrix with values ranging from 0 to 8: \\n\", matrix)"
   ]
  },
  {
   "cell_type": "markdown",
   "metadata": {},
   "source": [
    "**8. Create a 3x3 identity matrix**"
   ]
  },
  {
   "cell_type": "code",
   "execution_count": 14,
   "id": "d44d8d15",
    "metadata": {},
   "outputs": [
    {
     "name": "stdout",
     "output_type": "stream",
     "text": [
      "A 3x3 identity matrix: \n",
      " [[1. 0. 0.]\n",
      " [0. 1. 0.]\n",
      " [0. 0. 1.]]\n"
     ]
    }
   ],
   "source": [
    "identity_matrix = np.eye(3)\n",
    "print(\"A 3x3 identity matrix: \\n\", identity_matrix)"
   ]
  },
  {
   "cell_type": "markdown",
   "metadata": {},
   "source": [
    "**9. Find and print the maximum values of each column in the array below** "
   ]
  },
  {
   "cell_type": "code",
   "execution_count": 35,
   "id": "42cd8354",
   "metadata": {},
   "outputs": [
    {
     "name": "stdout",
     "output_type": "stream",
     "text": [
      "Original array: \n",
      " [[0.79399542 0.33827901 0.12541992 0.06760865 0.10885459 0.70236886\n",
      "  0.83792588 0.77260858 0.35899731 0.58184935 0.84949332]\n",
      " [0.20280829 0.82535267 0.90285546 0.41337633 0.42790578 0.94785258\n",
      "  0.76661107 0.31331118 0.80379431 0.3269616  0.74324894]\n",
      " [0.61716999 0.28545531 0.58522964 0.24764821 0.34015761 0.16556344\n",
      "  0.60387589 0.29961359 0.10326246 0.1773301  0.24011288]\n",
      " [0.53727734 0.66934026 0.6217553  0.07495985 0.93344787 0.99263226\n",
      "  0.38632087 0.0925041  0.53999039 0.63016633 0.99981491]\n",
      " [0.53468081 0.12303915 0.95118628 0.62900673 0.98633808 0.75765296\n",
      "  0.14041659 0.80717378 0.0867517  0.61930125 0.53481005]\n",
      " [0.96563342 0.96482745 0.7305737  0.14751767 0.54669077 0.48650093\n",
      "  0.41863841 0.18241802 0.50530681 0.38576346 0.03783865]\n",
      " [0.52882827 0.80464858 0.10424094 0.10275554 0.31677435 0.60167213\n",
      "  0.08708646 0.68151861 0.85497504 0.67733949 0.27460331]\n",
      " [0.76110353 0.2192558  0.79859911 0.25930794 0.14009899 0.77950958\n",
      "  0.25352743 0.20573811 0.82812072 0.80060133 0.52773904]\n",
      " [0.69177905 0.55447825 0.55261994 0.18854887 0.3308151  0.82340117\n",
      "  0.37887231 0.32102828 0.82232088 0.95972465 0.8625507 ]\n",
      " [0.60598074 0.94328065 0.85525581 0.95721593 0.94452563 0.65306879\n",
      "  0.52170174 0.16980112 0.38502391 0.42057936 0.83279512]]\n",
      "\n",
      "\n",
      "Maximum value of each column: \n",
      " [0.96563342 0.96482745 0.95118628 0.95721593 0.98633808 0.99263226\n",
      " 0.83792588 0.80717378 0.85497504 0.95972465 0.99981491]\n"
     ]
    }
   ],
   "source": [
    "Z = np.random.random((10,11))\n",
    "# Include your solution below\n",
    "print(\"Original array: \\n\", Z)\n",
    "maxInColumns = np.amax(Z, axis=0)\n",
    "print('\\n\\nMaximum value of each column: \\n', maxInColumns)"
   ]
  },
  {
   "cell_type": "markdown",
   "metadata": {},
   "source": [
    "**10. Create a $7 \\times 7$ array with 1s on the borders (first row and column, last row and columns) and 0s everywhere else**"
   ]
  },
  {
   "cell_type": "code",
   "execution_count": 14,
   "metadata": {},
   "outputs": [
    {
     "name": "stdout",
     "output_type": "stream",
     "text": [
      "A 7 * 7 array with 1s on the borders (first row and column, last row and columns) and 0s everywhere else:\n",
      " [[1. 1. 1. 1. 1. 1. 1.]\n",
      " [1. 0. 0. 0. 0. 0. 1.]\n",
      " [1. 0. 0. 0. 0. 0. 1.]\n",
      " [1. 0. 0. 0. 0. 0. 1.]\n",
      " [1. 0. 0. 0. 0. 0. 1.]\n",
      " [1. 0. 0. 0. 0. 0. 1.]\n",
      " [1. 1. 1. 1. 1. 1. 1.]]\n"
     ]
    }
   ],
   "source": [
    "onezero = np.ones((7,7))\n",
    "onezero[1:-1,1:-1] = 0\n",
    "print(\"A 7 * 7 array with 1s on the borders (first row and column, last row and columns) and 0s everywhere else:\\n\",onezero)"
   ]
  },
  {
   "cell_type": "markdown",
   "metadata": {},
   "source": [
    "**11. Pad the existing array below with zeros (i.e., add additional rows and columns with zeros). Use the NumPy pad function.**"
   ]
  },
  {
   "cell_type": "code",
   "execution_count": 5,
   "id": "7a11ea7e",
   "metadata": {},
   "outputs": [
    {
     "data": {
      "text/plain": [
       "array([[0., 0., 0., 0., 0., 0., 0., 0., 0.],\n",
       "       [0., 0., 0., 0., 0., 0., 0., 0., 0.],\n",
       "       [0., 0., 1., 1., 1., 1., 1., 0., 0.],\n",
       "       [0., 0., 1., 1., 1., 1., 1., 0., 0.],\n",
       "       [0., 0., 1., 1., 1., 1., 1., 0., 0.],\n",
       "       [0., 0., 1., 1., 1., 1., 1., 0., 0.],\n",
       "       [0., 0., 1., 1., 1., 1., 1., 0., 0.],\n",
       "       [0., 0., 0., 0., 0., 0., 0., 0., 0.],\n",
       "       [0., 0., 0., 0., 0., 0., 0., 0., 0.]])"
      ]
     },
     "execution_count": 5,
     "metadata": {},
     "output_type": "execute_result"
    }
   ],
   "source": [
    "Z = np.ones((5,5))\n",
    "# Include your solution below\n",
    "np.pad(Z, ((2, 2), (2, 2)), 'constant', constant_values=((0, 0), (0, 0)))"
   ]
  },
  {
   "cell_type": "markdown",
   "id": "3e665d05",
    "metadata": {},
   "source": [
    "**12. Extract the integer part of the random array of positive numbers below**"
   ]
  },
  {
   "cell_type": "code",
   "execution_count": 89,
   "metadata": {},
   "outputs": [
    {
     "name": "stdout",
     "output_type": "stream",
     "text": [
      "A random array of positive numbers: \n",
      " [6.34820577e-01 4.64454853e+00 9.97116767e-04 5.28776054e+00\n",
      " 7.71786938e+00 7.74185541e+00 1.79406964e-01 6.55432229e+00\n",
      " 6.78894029e+00 6.52509774e+00]\n",
      "Solution 1: integer part of the random array of positive numbers: \n",
      " [0. 4. 0. 5. 7. 7. 0. 6. 6. 6.]\n",
      "Execution time of solution #1: \n",
      "0.9597461959929205\n"
     ]
    }
   ],
   "source": [
    "Z = np.random.uniform(0,10,10)\n",
    "print(\"A random array of positive numbers: \\n\", Z)\n",
    "# Include your solution below\n",
    "def solution_1(Z):\n",
    "    return(np.trunc(Z))\n",
    "#Solution #1\n",
    "import timeit\n",
    "\n",
    "s_1 = solution_1(Z)\n",
    "print('Solution 1: integer part of the random array of positive numbers: \\n', s_1)\n",
    "\n",
    "print('Execution time of solution #1: ')\n",
    "print(timeit.timeit(lambda : solution_1(Z),  number = 1000000))"
   ]
  },
  {
   "cell_type": "code",
   "execution_count": 91,
   "metadata": {},
   "outputs": [
    {
     "name": "stdout",
     "output_type": "stream",
     "text": [
      "Solution 2: integer part of the random array of positive numbers: \n",
      " [0. 4. 0. 5. 7. 7. 0. 6. 6. 6.]\n",
      "Execution time of solution #2: \n",
      "0.9382257819816004\n",
      "\n",
      "Solution 3: integer part of the random array of positive numbers: \n",
      " [0 4 0 5 7 7 0 6 6 6]\n",
      "Execution time of solution #3: \n",
      "0.8804330249840859\n",
      "\n",
      "Solution 4: integer part of the random array of positive numbers: \n",
      " [0. 4. 0. 5. 7. 7. 0. 6. 6. 6.]\n",
      "Execution time of solution #4: \n",
      "2.0101580689952243\n",
      "\n",
      "\n",
      "As we can see the smallest execution time is for solution #2 and the longest is for solution #4.\n"
     ]
    }
   ],
   "source": [
    "# Other solutions\n",
    "\n",
    "def solution_2(Z):\n",
    "    return(np.floor(Z))\n",
    "\n",
    "def solution_3(Z):\n",
    "    return(Z.astype(int))\n",
    "\n",
    "def solution_4(Z):\n",
    "    return(Z // 1)\n",
    "\n",
    "s_2 = solution_2(Z)\n",
    "print('Solution 2: integer part of the random array of positive numbers: \\n', s_2)\n",
    "\n",
    "print('Execution time of solution #2: ')\n",
    "print(timeit.timeit(lambda : solution_2(Z),  number = 1000000))\n",
    "\n",
    "s_3  = solution_3(Z)\n",
    "print('\\nSolution 3: integer part of the random array of positive numbers: \\n', s_3)\n",
    "\n",
    "print('Execution time of solution #3: ')\n",
    "print(timeit.timeit(lambda : solution_3(Z),  number = 1000000))\n",
    "\n",
    "s_4 = solution_4(Z)\n",
    "print('\\nSolution 4: integer part of the random array of positive numbers: \\n', s_4)\n",
    "\n",
    "print('Execution time of solution #4: ')\n",
    "print(timeit.timeit(lambda : solution_4(Z),  number = 1000000))\n",
    "\n",
    "\n",
    "\n",
    "print('\\n\\nAs we can see the smallest execution time is for solution #2 and the longest is for solution #4.')"
   ]
  },
  {
   "cell_type": "markdown",
   "id": "d505a38a",
   "metadata": {},
   "source": [
    "**13. Create a 5x5 matrix with rows with equal values ranging from 0 to 4 (i.e., [0,1,2,3,4])**\n",
    "\n",
    "*Hint:* consider using NumPy broadcasting or the tile function*"
   ]
  },
  {
   "cell_type": "code",
   "execution_count": 14,
   "metadata": {},
   "outputs": [
    {
     "name": "stdout",
     "output_type": "stream",
     "text": [
      "A Matrix with rows with equal values in the range (0,4): \n",
      " [[0 1 2 3 4]\n",
      " [0 1 2 3 4]\n",
      " [0 1 2 3 4]\n",
      " [0 1 2 3 4]\n",
      " [0 1 2 3 4]]\n"
     ]
    }
   ],
   "source": [
    "Z = np.tile(np.arange(0, 5), (5,1))\n",
    "print('A Matrix with rows with equal values in the range (0,4): \\n', Z)"
   ]
  },
  {
   "cell_type": "markdown",
   "id": "1054e4da",
   "metadata": {},
   "source": [
    "**14. Create a vector of size 10 with values ranging from 0 to 1 (0 and 1 not included)**\n",
    "\n",
    "*Hint: Consider using the linspace function*"
   ]
  },
  {
   "cell_type": "code",
   "execution_count": 38,
   "id": "7ebf174b",
   "metadata": {},
   "outputs": [
    {
     "name": "stdout",
     "output_type": "stream",
     "text": [
      "[0.09090909 0.18181818 0.27272727 0.36363636 0.45454545 0.54545455\n",
      " 0.63636364 0.72727273 0.81818182 0.90909091]\n"
     ]
    }
   ],
   "source": [
    "vector = np.linspace(0,1,11 ,endpoint=False)[1:]\n",
    "print(vector)"
   ]
  },
  {
   "cell_type": "markdown",
   "id": "e3270a79",
   "metadata": {},
   "source": [
    "**15. Create a random vector of size 10 and sort it**"
   ]
  },
  {
   "cell_type": "code",
   "execution_count": 11,
   "id": "0bb6ceaf",
   "metadata": {},
   "outputs": [
    {
     "name": "stdout",
     "output_type": "stream",
     "text": [
      "[0.85228231 0.96185296 0.03590948 0.2579128  0.77563496 0.21741507\n",
      " 0.89094423 0.67356839 0.97960322 0.92275102]\n",
      "[0.03590948 0.21741507 0.2579128  0.67356839 0.77563496 0.85228231\n",
      " 0.89094423 0.92275102 0.96185296 0.97960322]\n"
     ]
    }
   ],
   "source": [
    "X = np.random.random(10)\n",
    "print(X)\n",
    "X.sort()\n",
    "print(X)"
   ]
  },
  {
   "cell_type": "markdown",
   "id": "f1011fbc",
   "metadata": {},
   "source": [
    "**16. Consider the cartesian coordinates below (X and Y), convert them to polar coordinates (R and T)**"
   ]
  },
  {
   "cell_type": "code",
   "execution_count": 31,
   "id": "7a667890",
   "metadata": {},
   "outputs": [
    {
     "name": "stdout",
     "output_type": "stream",
     "text": [
      "[0.77830345 0.73410949 0.60450628 0.79520714 0.46011496 0.96610029\n",
      " 1.04784408 0.80153308 0.96508417 0.82134174]\n",
      "[0.72562472 0.99544821 0.29426957 0.23053955 0.10781814 1.34160313\n",
      " 0.71659872 0.53140584 0.47476537 0.69838188]\n"
     ]
    }
   ],
   "source": [
    "Z = np.random.random((10,2))\n",
    "X,Y = Z[:,0], Z[:,1]\n",
    "# Include your solution below\n",
    "R = np.sqrt(X**2 + Y**2)\n",
    "T = np.arctan2(Y,X)\n",
    "print(R)\n",
    "print(T)"
   ]
  },
  {
   "cell_type": "markdown",
   "id": "cb916ab6",
   "metadata": {},
   "source": [
    "**17. Create random vector of size 10 and replace the maximum value by 0**"
   ]
  },
  {
   "cell_type": "code",
   "execution_count": 32,
   "id": "36732cfa",
   "metadata": {},
   "outputs": [
    {
     "name": "stdout",
     "output_type": "stream",
     "text": [
      "[0.81829431 0.29914834 0.89352253 0.21838901 0.93606521 0.93128504\n",
      " 0.65142842 0.1064878  0.28093491 0.00328527]\n",
      "[0.81829431 0.29914834 0.89352253 0.21838901 0.         0.93128504\n",
      " 0.65142842 0.1064878  0.28093491 0.00328527]\n"
     ]
    }
   ],
   "source": [
    "vector = np.random.random(10)\n",
    "print(vector)\n",
    "vector[vector.argmax()] = 0\n",
    "print(vector)"
   ]
  },
  {
   "cell_type": "markdown",
   "id": "fd152a6c",
   "metadata": {},
   "source": [
    "**18. Find the nearest value from a given value (z) in an array (Z)**"
   ]
  },
  {
   "cell_type": "code",
   "execution_count": 33,
   "id": "504d8f6b",
   "metadata": {},
   "outputs": [
    {
     "name": "stdout",
     "output_type": "stream",
     "text": [
      "[0.14816146 0.3124695  0.48975865 0.25291142 0.06984042 0.9211776\n",
      " 0.37283763 0.30246928 0.52280245 0.89076596]\n",
      "0.48975865291601706\n"
     ]
    }
   ],
   "source": [
    "Z = np.random.uniform(0,1,10)\n",
    "z = 0.5\n",
    "# Include your solution below\n",
    "print(Z)\n",
    "nearest = Z.flat[np.abs(Z - z).argmin()]\n",
    "print(nearest)"
   ]
  },
  {
   "cell_type": "markdown",
   "id": "14a51f36",
   "metadata": {},
   "source": [
    "**19. Consider the vector [5, 4, 3, 2, 1], how to build a new vector with 3 consecutive zeros interleaved between each value?**"
   ]
  },
  {
   "cell_type": "code",
   "execution_count": 20,
   "id": "df0e28a0",
   "metadata": {},
   "outputs": [
    {
     "name": "stdout",
     "output_type": "stream",
     "text": [
      "[4 3 2 1 0]\n",
      "[4. 0. 0. 0. 3. 0. 0. 0. 2. 0. 0. 0. 1. 0. 0. 0. 0.]\n"
     ]
    }
   ],
   "source": [
    "Z = np.arange(5)[::-1]\n",
    "# Include your solution below\n",
    "## Please note that the given array Z starts from 4 and goes to 0 (not from 5 to 1)!\n",
    "print(Z)\n",
    "Z0 = np.zeros((len(Z)-1)*3+(len(Z)))\n",
    "Z0[::4]=Z\n",
    "print(Z0)"
   ]
  },
  {
   "cell_type": "markdown",
   "id": "d5669a8b",
   "metadata": {},
   "source": [
    "**20. Consider an array of dimension (5,5,3), how to mulitply it element-wise by an array with dimensions (5,5) - i.e., (5,5,0)$\\times$(5,5), (5,5,1)$\\times$(5,5), (5,5,2)$\\times$(5,5)**"
   ]
  },
  {
   "cell_type": "code",
   "execution_count": null,
   "id": "ca530c22",
   "metadata": {},
   "outputs": [],
   "source": [
    "A = np.ones((5,5,3))\n",
    "B = 2*np.ones((5,5))\n",
    "# Include your solution below\n",
    "\n"
   ]
  },
  {
   "cell_type": "markdown",
   "id": "be59210e",
   "metadata": {},
   "source": [
    "**21. Swap the first and second rows of the 2D array below**"
   ]
  },
  {
   "cell_type": "code",
   "execution_count": 20,
   "metadata": {},
   "outputs": [
    {
     "name": "stdout",
     "output_type": "stream",
     "text": [
      "The original array: \n",
      " [[ 0  1  2  3  4]\n",
      " [ 5  6  7  8  9]\n",
      " [10 11 12 13 14]\n",
      " [15 16 17 18 19]\n",
      " [20 21 22 23 24]\n",
      " [25 26 27 28 29]]\n",
      "The array after swapping its first and second rows: \n",
      " [[ 5  6  7  8  9]\n",
      " [ 0  1  2  3  4]\n",
      " [10 11 12 13 14]\n",
      " [15 16 17 18 19]\n",
      " [20 21 22 23 24]\n",
      " [25 26 27 28 29]]\n"
     ]
    }
   ],
   "source": [
    "W = np.arange(30).reshape(6,5)\n",
    "print('The original array: \\n', W)\n",
    "# Include your solution below\n",
    "W[[0,1]] = W[[1,0]]\n",
    "print('The array after swapping its first and second rows: \\n', W)"
   ]
  },
  {
   "cell_type": "markdown",
   "id": "b52bcea8",
   "metadata": {},
   "source": [
    "**22. Write a function that receives as input a 2D Boolean NumPy array and outputs the coordinates of the minimal bounding-box\n",
    "that encloses all non-zero elements in the input array**\n",
    "\n",
    "**Tip:** search for the functions nonzero and where in the NumPy documentation.\n",
    "\n",
    "\n",
    "<img src=\"../Figures/bbox.png\" width=\"150\" /> "
   ]
  },
  {
   "cell_type": "code",
   "execution_count": null,
   "id": "697b93ef",
   "metadata": {},
   "outputs": [],
   "source": [
    "def bbox(img):\n",
    "    #include your solution below\n",
    "    return (r1,c1),(r2,c2)\n",
    "\n",
    "\n",
    "from PIL import Image\n",
    "\n",
    "img = np.array(Image.open('../Figures/bin_image.png').convert('L')) > 0\n",
    "print(bbox(img))"
   ]
  },
  {
   "cell_type": "markdown",
   "id": "928298bf",
   "metadata": {},
   "source": [
    "**23.Write a function to compute the average over a sliding window of length N over a 1D array?**\n",
    "\n",
    "*Example:* [1,2,3,4,5,6,7,8,9], N = 3 -> [2,5,8]"
   ]
  },
  {
   "cell_type": "code",
   "execution_count": 28,
   "id": "a8e7d10f",
   "metadata": {},
   "outputs": [
    {
     "name": "stdout",
     "output_type": "stream",
     "text": [
      "[ 1.  4.  7. 10. 13. 16. 19. 22. 25. 28.]\n"
     ]
    }
   ],
   "source": [
    "def moving_average(x,N = 3):\n",
    "    #define your function here\n",
    "#     answer = np.zeros(int(len(x)/3))\n",
    "#     answer = sum([x[i::N] for i in range(N)])/N\n",
    "#     return answer\n",
    "    answer = np.cumsum(x, dtype=float)\n",
    "    answer[N:] = answer[N:] - answer[:-N]\n",
    "    return answer[N - 1::N] / N\n",
    "\n",
    "a = np.arange(30)\n",
    "N = 3\n",
    "print(moving_average(a,N))"
   ]
  },
  {
   "cell_type": "markdown",
   "id": "8a0aa7e0",
   "metadata": {},
   "source": [
    "**24.  Given a sorted 1D array C that corresponds to a bincount, how to produce an array A such that np.bincount(A) == C?**\n",
    "\n",
    "*Example:* C = [3,2,4] -> D = [0,0,0,1,1,2,2,2,2]\n",
    "\n",
    "*Tip:* Consider using the NumPy repeat function"
   ]
  },
  {
   "cell_type": "code",
   "execution_count": 21,
   "metadata": {},
   "outputs": [
    {
     "name": "stdout",
     "output_type": "stream",
     "text": [
      "The original array C: \n",
      " [0 2 1 1 2 0 1]\n",
      "An array A such that np.bincount(A) == C \n",
      " [1 1 2 3 4 4 6]\n"
     ]
    }
   ],
   "source": [
    "C = np.bincount([1,1,2,3,4,4,6])\n",
    "print('The original array C: \\n', C)\n",
    "# Include yoru solution here\n",
    "A = np.repeat(np.arange(len(C)), C)\n",
    "print('An array A such that np.bincount(A) == C \\n', A)"
   ]
  },
  {
   "cell_type": "markdown",
   "id": "6bc9bdbc",
   "metadata": {},
   "source": [
    "**25. Find the most frequent value in the array below?**"
   ]
  },
  {
   "cell_type": "code",
   "execution_count": 2,
   "id": "594be773",
   "metadata": {},
   "outputs": [
    {
     "name": "stdout",
     "output_type": "stream",
     "text": [
      "Original array:\n",
      " [5 1 7 8 9 9 2 3 9 5 0 9 6 6 5 1 5 5 7 8 4 3 7 1 7 5 8 9 5 5 7 3 3 8 5 7 3\n",
      " 7 9 1 6 6 5 0 3 4 0 9 9 6]\n",
      "The most frequent value in the array is: 5\n"
     ]
    }
   ],
   "source": [
    "Z = np.random.randint(0,10,50)\n",
    "# Include your solution below\n",
    "print(\"Original array:\\n\",Z)\n",
    "print('The most frequent value in the array is:',np.bincount(Z).argmax()) #counts the occurrence of each element with bincount and then apply argmax to find the maximum value"
   ]
  },
  {
   "cell_type": "markdown",
   "id": "33d0cd74",
   "metadata": {},
   "source": [
    "**26. Write a function to return the n largest values of an array** "
   ]
  },
  {
   "cell_type": "code",
   "execution_count": 3,
   "id": "f238d242",
   "metadata": {},
   "outputs": [
    {
     "name": "stdout",
     "output_type": "stream",
     "text": [
      "N largest values of an array \n",
      " [9997 9998 9999 9996 9995]\n"
     ]
    }
   ],
   "source": [
    "def nlargest(a,n = 5):\n",
    "    # Include your solution here\n",
    "    n_largest_values = a[np.argpartition(-a,n)[:n]]\n",
    "    return n_largest_values\n",
    "    \n",
    "\n",
    "Z = np.arange(10000)\n",
    "np.random.shuffle(Z)\n",
    "n = 5\n",
    "print(\"N largest values of an array \\n\", nlargest(Z,n))  "
   ]
  },
  {
   "cell_type": "code",
   "execution_count": null,
   "id": "a185d692",
   "metadata": {},
   "outputs": [],
   "source": []
  }
 ],
 "metadata": {
  "kernelspec": {
   "display_name": "Python 3",
   "language": "python",
   "name": "python3"
  },
  "language_info": {
   "codemirror_mode": {
    "name": "ipython",
    "version": 3
   },
   "file_extension": ".py",
   "mimetype": "text/x-python",
   "name": "python",
   "nbconvert_exporter": "python",
   "pygments_lexer": "ipython3",
   "version": "3.8.12"
  }
 },
 "nbformat": 4,
 "nbformat_minor": 5
}
