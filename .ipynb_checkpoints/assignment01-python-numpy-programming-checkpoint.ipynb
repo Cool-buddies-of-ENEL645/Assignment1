{
 "cells": [
  {
   "cell_type": "markdown",
   "id": "74fe447d",
   "metadata": {},
   "source": [
    "# Assignment #01\n",
    "\n",
    "This assignment is composed of multiple Python and NumPy programming exercises. The deliverable of this assignment is this jupyter-notebook completed with your solution.\n",
    "\n",
    "The delivery instructions are the following:\n",
    "    - Create a GitHub repository for your team. You are free to choose its name. This repository will be used to delvier the programming assignments and the code of your team's final project.\n",
    "    - Create a folder assignment-01 in the repository. Put the jupyter-notebook with your solution in this repository and post the repository link in your team's D2L dropbox for the assignment.\n",
    "\n",
    "You are being assessed based on:\n",
    "\n",
    "1. Code execution - 25% \n",
    "2. Clarity of the code (e.g., easy to follow, has pertinent comments, etc.) - 25%\n",
    "3. Proper usage of the techniques seen in class - 25%\n",
    "    - remember to avoid explicit Python loops!  \n",
    "4. Quality and correcteness of the results - 25%\n",
    "\n",
    "More details about the assessment are available in the rubric document in the class GitHub repository.\n",
    "\n",
    "Points distribution:\n",
    "- Question 2-21: 3 points per question \n",
    "- Questions 22-26: 8 points per question (total 40)\n",
    "- Total: 100 ponits"
   ]
  },
  {
   "cell_type": "code",
   "execution_count": 1,
   "id": "0e54cf90",
   "metadata": {},
   "outputs": [],
   "source": [
    "import matplotlib.pylab as plt"
   ]
  },
  {
   "cell_type": "markdown",
   "id": "d03ccb83",
   "metadata": {},
   "source": [
    "**1. Import the numpy package under the name np**"
   ]
  },
  {
   "cell_type": "code",
   "execution_count": 2,
   "id": "0a393686",
   "metadata": {},
   "outputs": [],
   "source": [
    "import numpy as np"
   ]
  },
  {
   "cell_type": "markdown",
   "id": "f56cb99a",
   "metadata": {},
   "source": [
    "**2. Print the numpy version and the configuration**"
   ]
  },
  {
   "cell_type": "code",
   "execution_count": 3,
   "id": "ef019355",
   "metadata": {},
   "outputs": [
    {
     "name": "stdout",
     "output_type": "stream",
     "text": [
      "1.22.1\n",
      "openblas64__info:\n",
      "    library_dirs = ['D:\\\\a\\\\1\\\\s\\\\numpy\\\\build\\\\openblas64__info']\n",
      "    libraries = ['openblas64__info']\n",
      "    language = f77\n",
      "    define_macros = [('HAVE_CBLAS', None), ('BLAS_SYMBOL_SUFFIX', '64_'), ('HAVE_BLAS_ILP64', None)]\n",
      "blas_ilp64_opt_info:\n",
      "    library_dirs = ['D:\\\\a\\\\1\\\\s\\\\numpy\\\\build\\\\openblas64__info']\n",
      "    libraries = ['openblas64__info']\n",
      "    language = f77\n",
      "    define_macros = [('HAVE_CBLAS', None), ('BLAS_SYMBOL_SUFFIX', '64_'), ('HAVE_BLAS_ILP64', None)]\n",
      "openblas64__lapack_info:\n",
      "    library_dirs = ['D:\\\\a\\\\1\\\\s\\\\numpy\\\\build\\\\openblas64__lapack_info']\n",
      "    libraries = ['openblas64__lapack_info']\n",
      "    language = f77\n",
      "    define_macros = [('HAVE_CBLAS', None), ('BLAS_SYMBOL_SUFFIX', '64_'), ('HAVE_BLAS_ILP64', None), ('HAVE_LAPACKE', None)]\n",
      "lapack_ilp64_opt_info:\n",
      "    library_dirs = ['D:\\\\a\\\\1\\\\s\\\\numpy\\\\build\\\\openblas64__lapack_info']\n",
      "    libraries = ['openblas64__lapack_info']\n",
      "    language = f77\n",
      "    define_macros = [('HAVE_CBLAS', None), ('BLAS_SYMBOL_SUFFIX', '64_'), ('HAVE_BLAS_ILP64', None), ('HAVE_LAPACKE', None)]\n",
      "Supported SIMD extensions in this NumPy install:\n",
      "    baseline = SSE,SSE2,SSE3\n",
      "    found = SSSE3,SSE41,POPCNT,SSE42,AVX,F16C,FMA3,AVX2\n",
      "    not found = AVX512F,AVX512CD,AVX512_SKX,AVX512_CLX,AVX512_CNL,AVX512_ICL\n"
     ]
    }
   ],
   "source": [
    "print(np.__version__)\n",
    "np.show_config()"
   ]
  },
  {
   "cell_type": "markdown",
   "id": "255e4fe8",
   "metadata": {},
   "source": [
    "**3. Create a 1D array of zeros of size 10 of type float32**"
   ]
  },
  {
   "cell_type": "code",
   "execution_count": 4,
   "id": "920fda44",
   "metadata": {},
   "outputs": [
    {
     "name": "stdout",
     "output_type": "stream",
     "text": [
      "1D array of zeros of size 10 of type float32: \n",
      " [0. 0. 0. 0. 0. 0. 0. 0. 0. 0.]\n"
     ]
    }
   ],
   "source": [
    "array = np.zeros(10, dtype=np.float32)\n",
    "print(\"1D array of zeros of size 10 of type float32: \\n\", array)"
   ]
  },
  {
   "cell_type": "markdown",
   "id": "8742a490",
   "metadata": {},
   "source": [
    "**4. Print the memory size of the array below**"
   ]
  },
  {
   "cell_type": "code",
   "execution_count": 5,
   "id": "95568832",
   "metadata": {},
   "outputs": [
    {
     "name": "stdout",
     "output_type": "stream",
     "text": [
      "memory size of the array: 3072 bytes\n"
     ]
    }
   ],
   "source": [
    "Z = np.zeros((32,12))\n",
    "# Include your solution below\n",
    "print(\"memory size of the array: %d bytes\" % (Z.size * Z.itemsize))"
   ]
  },
  {
   "cell_type": "markdown",
   "id": "dec44406",
   "metadata": {},
   "source": [
    "**5. Create a 1D array with values ranging from 10 to 58**"
   ]
  },
  {
   "cell_type": "code",
   "execution_count": 6,
   "id": "32ae94b6",
   "metadata": {},
   "outputs": [
    {
     "name": "stdout",
     "output_type": "stream",
     "text": [
      "1D array with values ranging from 10 to 58: \n",
      " [10 11 12 13 14 15 16 17 18 19 20 21 22 23 24 25 26 27 28 29 30 31 32 33\n",
      " 34 35 36 37 38 39 40 41 42 43 44 45 46 47 48 49 50 51 52 53 54 55 56 57\n",
      " 58]\n"
     ]
    }
   ],
   "source": [
    "array = np.arange(10,59)\n",
    "print(\"1D array with values ranging from 10 to 58: \\n\", array)"
   ]
  },
  {
   "cell_type": "markdown",
   "id": "5be049e9",
   "metadata": {},
   "source": [
    "**6. Reverse the order of the values in the vector (first element becomes last)**"
   ]
  },
  {
   "cell_type": "code",
   "execution_count": 7,
   "id": "2cfb6045",
   "metadata": {},
   "outputs": [
    {
     "name": "stdout",
     "output_type": "stream",
     "text": [
      "Original vector: \n",
      " [0 1 2 3 4 5 6 7 8 9]\n",
      "Reversed vector: \n",
      " [9 8 7 6 5 4 3 2 1 0]\n"
     ]
    }
   ],
   "source": [
    "a = np.arange(10)\n",
    "print(\"Original vector: \\n\", a)\n",
    "# Include your solution below\n",
    "reversed_vector = a[::-1]\n",
    "print(\"Reversed vector: \\n\", reversed_vector)"
   ]
  },
  {
   "cell_type": "markdown",
   "id": "6ae5f1e0",
   "metadata": {},
   "source": [
    "**7. Create a 3x3 matrix with values ranging from 0 to 8**"
   ]
  },
  {
   "cell_type": "code",
   "execution_count": 8,
   "id": "b0935590",
   "metadata": {},
   "outputs": [
    {
     "name": "stdout",
     "output_type": "stream",
     "text": [
      "A 3x3 matrix with values ranging from 0 to 8: \n",
      " [[0 1 2]\n",
      " [3 4 5]\n",
      " [6 7 8]]\n"
     ]
    }
   ],
   "source": [
    "matrix = np.arange(9).reshape(3, 3)\n",
    "print(\"A 3x3 matrix with values ranging from 0 to 8: \\n\", matrix)"
   ]
  },
  {
   "cell_type": "markdown",
   "id": "64515d02",
   "metadata": {},
   "source": [
    "**8. Create a 3x3 identity matrix**"
   ]
  },
  {
   "cell_type": "code",
   "execution_count": 9,
   "id": "d44d8d15",
   "metadata": {},
   "outputs": [
    {
     "name": "stdout",
     "output_type": "stream",
     "text": [
      "A 3x3 identity matrix: \n",
      " [[1. 0. 0.]\n",
      " [0. 1. 0.]\n",
      " [0. 0. 1.]]\n"
     ]
    }
   ],
   "source": [
    "identity_matrix = np.eye(3)\n",
    "print(\"A 3x3 identity matrix: \\n\", identity_matrix)"
   ]
  },
  {
   "cell_type": "markdown",
   "id": "382bdf0b",
   "metadata": {},
   "source": [
    "**9. Find and print the maximum values of each column in the array below** "
   ]
  },
  {
   "cell_type": "code",
   "execution_count": 41,
   "id": "42cd8354",
   "metadata": {},
   "outputs": [
    {
     "name": "stdout",
     "output_type": "stream",
     "text": [
      "Original array: \n",
      " [[0.08209269 0.63444285 0.27328944 0.44938009 0.2486549  0.88419812\n",
      "  0.64041187 0.9996992  0.04603638 0.0530468  0.95888252]\n",
      " [0.56050084 0.77255211 0.15022369 0.33770489 0.76672736 0.41399768\n",
      "  0.82589264 0.09159774 0.05030418 0.64846388 0.36724005]\n",
      " [0.7259565  0.50318572 0.99606935 0.02203626 0.05851611 0.27466952\n",
      "  0.7546176  0.60044276 0.49149029 0.38811905 0.15898779]\n",
      " [0.74102327 0.0555353  0.70979329 0.44766168 0.37556226 0.13996969\n",
      "  0.96219224 0.77542951 0.41149723 0.82710499 0.77250696]\n",
      " [0.43069355 0.97314817 0.4441123  0.5394124  0.27864627 0.64042444\n",
      "  0.91883589 0.08398487 0.5160955  0.1588618  0.83973923]\n",
      " [0.95363006 0.40308006 0.93697537 0.59523207 0.691134   0.40677576\n",
      "  0.30685242 0.29369688 0.45517836 0.25304937 0.14798914]\n",
      " [0.00107877 0.1764215  0.21640941 0.98292952 0.98890622 0.27955385\n",
      "  0.60961108 0.16881699 0.93780842 0.24711542 0.07610294]\n",
      " [0.61244536 0.35091859 0.63618262 0.59368755 0.92123216 0.80040245\n",
      "  0.01716997 0.61501787 0.87971444 0.57124661 0.15504577]\n",
      " [0.37231018 0.97001083 0.13468824 0.91877814 0.79308291 0.61493101\n",
      "  0.52744711 0.1559505  0.03103168 0.15765519 0.79892763]\n",
      " [0.7620818  0.63655772 0.66707603 0.7392714  0.64746751 0.85087813\n",
      "  0.63816142 0.077706   0.88393939 0.29760938 0.6795719 ]]\n",
      "\n",
      "\n",
      "Maximum value of each column: \n",
      " [0.95363006 0.97314817 0.99606935 0.98292952 0.98890622 0.88419812\n",
      " 0.96219224 0.9996992  0.93780842 0.82710499 0.95888252]\n"
     ]
    }
   ],
   "source": [
    "Z = np.random.random((10,11))\n",
    "# Include your solution below\n",
    "print(\"Original array: \\n\", Z)\n",
    "max_in_columns = np.amax(Z, axis=0)\n",
    "print('\\n\\nMaximum value of each column: \\n', max_in_columns)"
   ]
  },
  {
   "cell_type": "markdown",
   "id": "75fc6f7d",
   "metadata": {},
   "source": [
    "**10. Create a $7 \\times 7$ array with 1s on the borders (first row and column, last row and columns) and 0s everywhere else**"
   ]
  },
  {
   "cell_type": "code",
   "execution_count": 11,
   "id": "9e6a3318",
   "metadata": {},
   "outputs": [
    {
     "name": "stdout",
     "output_type": "stream",
     "text": [
      "A 7 * 7 array with 1s on the borders (first row and column, last row and columns) and 0s everywhere else:\n",
      " [[1. 1. 1. 1. 1. 1. 1.]\n",
      " [1. 0. 0. 0. 0. 0. 1.]\n",
      " [1. 0. 0. 0. 0. 0. 1.]\n",
      " [1. 0. 0. 0. 0. 0. 1.]\n",
      " [1. 0. 0. 0. 0. 0. 1.]\n",
      " [1. 0. 0. 0. 0. 0. 1.]\n",
      " [1. 1. 1. 1. 1. 1. 1.]]\n"
     ]
    }
   ],
   "source": [
    "onezero = np.ones((7,7))\n",
    "onezero[1:-1,1:-1] = 0\n",
    "print(\"A 7 * 7 array with 1s on the borders (first row and column, last row and columns) and 0s everywhere else:\\n\",onezero)"
   ]
  },
  {
   "cell_type": "markdown",
   "id": "2087752c",
   "metadata": {},
   "source": [
    "**11. Pad the existing array below with zeros (i.e., add additional rows and columns with zeros). Use the NumPy pad function.**"
   ]
  },
  {
   "cell_type": "code",
   "execution_count": 12,
   "id": "7a11ea7e",
   "metadata": {},
   "outputs": [
    {
     "data": {
      "text/plain": [
       "array([[0., 0., 0., 0., 0., 0., 0., 0., 0.],\n",
       "       [0., 0., 0., 0., 0., 0., 0., 0., 0.],\n",
       "       [0., 0., 1., 1., 1., 1., 1., 0., 0.],\n",
       "       [0., 0., 1., 1., 1., 1., 1., 0., 0.],\n",
       "       [0., 0., 1., 1., 1., 1., 1., 0., 0.],\n",
       "       [0., 0., 1., 1., 1., 1., 1., 0., 0.],\n",
       "       [0., 0., 1., 1., 1., 1., 1., 0., 0.],\n",
       "       [0., 0., 0., 0., 0., 0., 0., 0., 0.],\n",
       "       [0., 0., 0., 0., 0., 0., 0., 0., 0.]])"
      ]
     },
     "execution_count": 12,
     "metadata": {},
     "output_type": "execute_result"
    }
   ],
   "source": [
    "Z = np.ones((5,5))\n",
    "# Include your solution below\n",
    "np.pad(Z, ((2, 2), (2, 2)), 'constant', constant_values=((0, 0), (0, 0)))"
   ]
  },
  {
   "cell_type": "markdown",
   "id": "3e665d05",
   "metadata": {},
   "source": [
    "**12. Extract the integer part of the random array of positive numbers below**"
   ]
  },
  {
   "cell_type": "code",
   "execution_count": 13,
   "id": "d55342d5",
   "metadata": {},
   "outputs": [
    {
     "name": "stdout",
     "output_type": "stream",
     "text": [
      "A random array of positive numbers: \n",
      " [9.12305681 4.7004366  9.94112867 9.08278677 3.32366932 0.92177485\n",
      " 4.33225016 4.86441571 0.99362841 6.16347144]\n",
      "Solution 1: integer part of the random array of positive numbers: \n",
      " [9. 4. 9. 9. 3. 0. 4. 4. 0. 6.]\n",
      "Execution time of solution #1: \n",
      "0.8211754\n"
     ]
    }
   ],
   "source": [
    "Z = np.random.uniform(0,10,10)\n",
    "print(\"A random array of positive numbers: \\n\", Z)\n",
    "# Include your solution below\n",
    "def solution_1(Z):\n",
    "    return(np.trunc(Z))\n",
    "#Solution #1\n",
    "import timeit\n",
    "\n",
    "s_1 = solution_1(Z)\n",
    "print('Solution 1: integer part of the random array of positive numbers: \\n', s_1)\n",
    "\n",
    "print('Execution time of solution #1: ')\n",
    "print(timeit.timeit(lambda : solution_1(Z),  number = 1000000))"
   ]
  },
  {
   "cell_type": "code",
   "execution_count": 14,
   "id": "7c546087",
   "metadata": {},
   "outputs": [
    {
     "name": "stdout",
     "output_type": "stream",
     "text": [
      "Solution 2: integer part of the random array of positive numbers: \n",
      " [9. 4. 9. 9. 3. 0. 4. 4. 0. 6.]\n",
      "Execution time of solution #2: \n",
      "0.7904182000000004\n",
      "\n",
      "Solution 3: integer part of the random array of positive numbers: \n",
      " [9 4 9 9 3 0 4 4 0 6]\n",
      "Execution time of solution #3: \n",
      "0.8801107000000004\n",
      "\n",
      "Solution 4: integer part of the random array of positive numbers: \n",
      " [9. 4. 9. 9. 3. 0. 4. 4. 0. 6.]\n",
      "Execution time of solution #4: \n",
      "2.837701300000001\n",
      "\n",
      "\n",
      "As we can see the smallest execution time is for solution #2 and the longest is for solution #4.\n"
     ]
    }
   ],
   "source": [
    "# Other solutions\n",
    "\n",
    "def solution_2(Z):\n",
    "    return(np.floor(Z))\n",
    "\n",
    "def solution_3(Z):\n",
    "    return(Z.astype(int))\n",
    "\n",
    "def solution_4(Z):\n",
    "    return(Z // 1)\n",
    "\n",
    "s_2 = solution_2(Z)\n",
    "print('Solution 2: integer part of the random array of positive numbers: \\n', s_2)\n",
    "\n",
    "print('Execution time of solution #2: ')\n",
    "print(timeit.timeit(lambda : solution_2(Z),  number = 1000000))\n",
    "\n",
    "s_3  = solution_3(Z)\n",
    "print('\\nSolution 3: integer part of the random array of positive numbers: \\n', s_3)\n",
    "\n",
    "print('Execution time of solution #3: ')\n",
    "print(timeit.timeit(lambda : solution_3(Z),  number = 1000000))\n",
    "\n",
    "s_4 = solution_4(Z)\n",
    "print('\\nSolution 4: integer part of the random array of positive numbers: \\n', s_4)\n",
    "\n",
    "print('Execution time of solution #4: ')\n",
    "print(timeit.timeit(lambda : solution_4(Z),  number = 1000000))\n",
    "\n",
    "\n",
    "\n",
    "print('\\n\\nAs we can see the smallest execution time is for solution #2 and the longest is for solution #4.')"
   ]
  },
  {
   "cell_type": "markdown",
   "id": "d505a38a",
   "metadata": {},
   "source": [
    "**13. Create a 5x5 matrix with rows with equal values ranging from 0 to 4 (i.e., [0,1,2,3,4])**\n",
    "\n",
    "*Hint:* consider using NumPy broadcasting or the tile function*"
   ]
  },
  {
   "cell_type": "code",
   "execution_count": 15,
   "id": "08a7d3e8",
   "metadata": {},
   "outputs": [
    {
     "name": "stdout",
     "output_type": "stream",
     "text": [
      "A Matrix with rows with equal values in the range (0,4): \n",
      " [[0 1 2 3 4]\n",
      " [0 1 2 3 4]\n",
      " [0 1 2 3 4]\n",
      " [0 1 2 3 4]\n",
      " [0 1 2 3 4]]\n"
     ]
    }
   ],
   "source": [
    "Z = np.tile(np.arange(0, 5), (5,1))\n",
    "print('A Matrix with rows with equal values in the range (0,4): \\n', Z)"
   ]
  },
  {
   "cell_type": "markdown",
   "id": "1054e4da",
   "metadata": {},
   "source": [
    "**14. Create a vector of size 10 with values ranging from 0 to 1 (0 and 1 not included)**\n",
    "\n",
    "*Hint: Consider using the linspace function*"
   ]
  },
  {
   "cell_type": "code",
   "execution_count": 16,
   "id": "7ebf174b",
   "metadata": {},
   "outputs": [
    {
     "name": "stdout",
     "output_type": "stream",
     "text": [
      "[0.09090909 0.18181818 0.27272727 0.36363636 0.45454545 0.54545455\n",
      " 0.63636364 0.72727273 0.81818182 0.90909091]\n"
     ]
    }
   ],
   "source": [
    "vector = np.linspace(0,1,11 ,endpoint=False)[1:]\n",
    "print(vector)"
   ]
  },
  {
   "cell_type": "markdown",
   "id": "e3270a79",
   "metadata": {},
   "source": [
    "**15. Create a random vector of size 10 and sort it**"
   ]
  },
  {
   "cell_type": "code",
   "execution_count": 44,
   "id": "0bb6ceaf",
   "metadata": {},
   "outputs": [
    {
     "name": "stdout",
     "output_type": "stream",
     "text": [
      "Original vector: \n",
      " [0.63308564 0.08678616 0.49220385 0.14122249 0.08631472 0.31398626\n",
      " 0.45235423 0.71164567 0.95798033 0.56282807]\n",
      "\n",
      "The sorted vector: \n",
      " [0.08631472 0.08678616 0.14122249 0.31398626 0.45235423 0.49220385\n",
      " 0.56282807 0.63308564 0.71164567 0.95798033]\n"
     ]
    }
   ],
   "source": [
    "X = np.random.random(10)\n",
    "print(\"Original vector: \\n\",X)\n",
    "X.sort()\n",
    "print(\"\\nThe sorted vector: \\n\",X)"
   ]
  },
  {
   "cell_type": "markdown",
   "id": "f1011fbc",
   "metadata": {},
   "source": [
    "**16. Consider the cartesian coordinates below (X and Y), convert them to polar coordinates (R and T)**"
   ]
  },
  {
   "cell_type": "code",
   "execution_count": 18,
   "id": "7a667890",
   "metadata": {},
   "outputs": [
    {
     "name": "stdout",
     "output_type": "stream",
     "text": [
      "[0.9292597  0.93476463 0.94278022 0.80534647 0.71704598 0.63836989\n",
      " 0.83236358 1.10950522 0.8032504  0.87621324]\n",
      "[0.46552191 1.18816552 0.02425606 0.18415891 0.85253807 1.26215129\n",
      " 0.9344496  0.4833482  0.0441679  1.47957888]\n"
     ]
    }
   ],
   "source": [
    "Z = np.random.random((10,2))\n",
    "X,Y = Z[:,0], Z[:,1]\n",
    "# Include your solution below\n",
    "R = np.sqrt(X**2 + Y**2)\n",
    "T = np.arctan2(Y,X)\n",
    "print(R)\n",
    "print(T)"
   ]
  },
  {
   "cell_type": "markdown",
   "id": "cb916ab6",
   "metadata": {},
   "source": [
    "**17. Create random vector of size 10 and replace the maximum value by 0**"
   ]
  },
  {
   "cell_type": "code",
   "execution_count": 4,
   "id": "36732cfa",
   "metadata": {},
   "outputs": [
    {
     "name": "stdout",
     "output_type": "stream",
     "text": [
      "Original vector: \n",
      " [0.81938411 0.35115355 0.79848301 0.5179441  0.89210867 0.39380686\n",
      " 0.07777849 0.72320314 0.11935433 0.61182248]\n",
      "\n",
      "The vector after replacement of the maximum value by 0\n",
      " [0.81938411 0.35115355 0.79848301 0.5179441  0.         0.39380686\n",
      " 0.07777849 0.72320314 0.11935433 0.61182248]\n"
     ]
    }
   ],
   "source": [
    "vector = np.random.random(10)\n",
    "print(\"Original vector: \\n\",vector)\n",
    "vector[vector.argmax()] = 0\n",
    "print(\"\\nThe vector after replacement of the maximum value by 0\\n\",vector)"
   ]
  },
  {
   "cell_type": "markdown",
   "id": "fd152a6c",
   "metadata": {},
   "source": [
    "**18. Find the nearest value from a given value (z) in an array (Z)**"
   ]
  },
  {
   "cell_type": "code",
   "execution_count": 52,
   "id": "504d8f6b",
   "metadata": {},
   "outputs": [
    {
     "name": "stdout",
     "output_type": "stream",
     "text": [
      "The Array: \n",
      " [0.78218864 0.33785001 0.73741785 0.60888867 0.46656973 0.08830496\n",
      " 0.55028241 0.22806078 0.54564522 0.1518036 ]\n",
      "\n",
      "The nearest value of array to 0.5 is: 0.4665697285513585\n"
     ]
    }
   ],
   "source": [
    "Z = np.random.uniform(0,1,10)\n",
    "z = 0.5\n",
    "# Include your solution below\n",
    "print(\"The Array: \\n\",Z)\n",
    "nearest = Z.flat[np.abs(Z - z).argmin()]\n",
    "print(\"\\nThe nearest value of array to {} is: {}\".format(z,nearest))"
   ]
  },
  {
   "cell_type": "markdown",
   "id": "14a51f36",
   "metadata": {},
   "source": [
    "**19. Consider the vector [5, 4, 3, 2, 1], how to build a new vector with 3 consecutive zeros interleaved between each value?**"
   ]
  },
  {
   "cell_type": "code",
   "execution_count": 55,
   "id": "df0e28a0",
   "metadata": {},
   "outputs": [
    {
     "name": "stdout",
     "output_type": "stream",
     "text": [
      "Original Vector\n",
      " [4 3 2 1 0]\n",
      "\n",
      "A new vector with 3 consecutive zeros interleaved between each value\n",
      " [4. 0. 0. 0. 3. 0. 0. 0. 2. 0. 0. 0. 1. 0. 0. 0. 0.]\n"
     ]
    }
   ],
   "source": [
    "Z = np.arange(5)[::-1]\n",
    "# Include your solution below\n",
    "## Please note that the given array Z starts from 4 and goes to 0 (not from 5 to 1)!\n",
    "print(\"Original Vector\\n\",Z)\n",
    "Z0 = np.zeros((len(Z)-1)*3+(len(Z)))\n",
    "Z0[::4]=Z\n",
    "print(\"\\nA new vector with 3 consecutive zeros interleaved between each value\\n\",Z0)"
   ]
  },
  {
   "cell_type": "markdown",
   "id": "d5669a8b",
   "metadata": {},
   "source": [
    "**20. Consider an array of dimension (5,5,3), how to mulitply it element-wise by an array with dimensions (5,5) - i.e., (5,5,0)$\\times$(5,5), (5,5,1)$\\times$(5,5), (5,5,2)$\\times$(5,5)**"
   ]
  },
  {
   "cell_type": "code",
   "execution_count": 4,
   "id": "ca530c22",
   "metadata": {},
   "outputs": [
    {
     "name": "stdout",
     "output_type": "stream",
     "text": [
      "[[[2. 2. 2.]\n",
      "  [2. 2. 2.]\n",
      "  [2. 2. 2.]\n",
      "  [2. 2. 2.]\n",
      "  [2. 2. 2.]]\n",
      "\n",
      " [[2. 2. 2.]\n",
      "  [2. 2. 2.]\n",
      "  [2. 2. 2.]\n",
      "  [2. 2. 2.]\n",
      "  [2. 2. 2.]]\n",
      "\n",
      " [[2. 2. 2.]\n",
      "  [2. 2. 2.]\n",
      "  [2. 2. 2.]\n",
      "  [2. 2. 2.]\n",
      "  [2. 2. 2.]]\n",
      "\n",
      " [[2. 2. 2.]\n",
      "  [2. 2. 2.]\n",
      "  [2. 2. 2.]\n",
      "  [2. 2. 2.]\n",
      "  [2. 2. 2.]]\n",
      "\n",
      " [[2. 2. 2.]\n",
      "  [2. 2. 2.]\n",
      "  [2. 2. 2.]\n",
      "  [2. 2. 2.]\n",
      "  [2. 2. 2.]]]\n"
     ]
    }
   ],
   "source": [
    "A = np.ones((5,5,3))\n",
    "B = 2*np.ones((5,5))\n",
    "# Include your solution below\n",
    "answer = A * B[:,:,None]\n",
    "print(answer)"
   ]
  },
  {
   "cell_type": "markdown",
   "id": "be59210e",
   "metadata": {},
   "source": [
    "**21. Swap the first and second rows of the 2D array below**"
   ]
  },
  {
   "cell_type": "code",
   "execution_count": 23,
   "id": "330b86cc",
   "metadata": {},
   "outputs": [
    {
     "name": "stdout",
     "output_type": "stream",
     "text": [
      "The original array: \n",
      " [[ 0  1  2  3  4]\n",
      " [ 5  6  7  8  9]\n",
      " [10 11 12 13 14]\n",
      " [15 16 17 18 19]\n",
      " [20 21 22 23 24]\n",
      " [25 26 27 28 29]]\n",
      "The array after swapping its first and second rows: \n",
      " [[ 5  6  7  8  9]\n",
      " [ 0  1  2  3  4]\n",
      " [10 11 12 13 14]\n",
      " [15 16 17 18 19]\n",
      " [20 21 22 23 24]\n",
      " [25 26 27 28 29]]\n"
     ]
    }
   ],
   "source": [
    "W = np.arange(30).reshape(6,5)\n",
    "print('The original array: \\n', W)\n",
    "# Include your solution below\n",
    "W[[0,1]] = W[[1,0]]\n",
    "print('The array after swapping its first and second rows: \\n', W)"
   ]
  },
  {
   "cell_type": "markdown",
   "id": "b52bcea8",
   "metadata": {},
   "source": [
    "**22. Write a function that receives as input a 2D Boolean NumPy array and outputs the coordinates of the minimal bounding-box\n",
    "that encloses all non-zero elements in the input array**\n",
    "\n",
    "**Tip:** search for the functions nonzero and where in the NumPy documentation.\n",
    "\n",
    "\n",
    "<img src=\"/Figures/bbox.png\" width=\"150\" /> "
   ]
  },
  {
   "cell_type": "code",
   "execution_count": 5,
   "id": "697b93ef",
   "metadata": {},
   "outputs": [
    {
     "name": "stdout",
     "output_type": "stream",
     "text": [
      "((29, 50), (342, 431))\n"
     ]
    }
   ],
   "source": [
    "def bbox(img):\n",
    "    #include your solution below\n",
    "    rows = np.any(img, axis=1) \n",
    "    cols = np.any(img, axis=0) \n",
    "    r1, r2 = np.where(rows)[0][[0, -1]] \n",
    "    c1, c2 = np.where(cols)[0][[0, -1]] \n",
    "    return (r1,c1),(r2,c2) \n",
    "\n",
    "\n",
    "from PIL import Image\n",
    "\n",
    "img = np.array(Image.open('Figures/bin_image.png').convert('L')) > 0\n",
    "print(bbox(img))"
   ]
  },
  {
   "cell_type": "markdown",
   "id": "928298bf",
   "metadata": {},
   "source": [
    "**23.Write a function to compute the average over a sliding window of length N over a 1D array?**\n",
    "\n",
    "*Example:* [1,2,3,4,5,6,7,8,9], N = 3 -> [2,5,8]"
   ]
  },
  {
   "cell_type": "code",
   "execution_count": 25,
   "id": "a8e7d10f",
   "metadata": {},
   "outputs": [
    {
     "name": "stdout",
     "output_type": "stream",
     "text": [
      "[ 1.  4.  7. 10. 13. 16. 19. 22. 25. 28.]\n"
     ]
    }
   ],
   "source": [
    "def moving_average(x,N = 3):\n",
    "    #define your function here\n",
    "#     answer = np.zeros(int(len(x)/3))\n",
    "#     answer = sum([x[i::N] for i in range(N)])/N\n",
    "#     return answer\n",
    "    answer = np.cumsum(x, dtype=float)\n",
    "    answer[N:] = answer[N:] - answer[:-N]\n",
    "    return answer[N - 1::N] / N\n",
    "\n",
    "a = np.arange(30)\n",
    "N = 3\n",
    "print(moving_average(a,N))"
   ]
  },
  {
   "cell_type": "markdown",
   "id": "8a0aa7e0",
   "metadata": {},
   "source": [
    "**24.  Given a sorted 1D array C that corresponds to a bincount, how to produce an array A such that np.bincount(A) == C?**\n",
    "\n",
    "*Example:* C = [3,2,4] -> D = [0,0,0,1,1,2,2,2,2]\n",
    "\n",
    "*Tip:* Consider using the NumPy repeat function"
   ]
  },
  {
   "cell_type": "code",
   "execution_count": 26,
   "id": "27aedacf",
   "metadata": {},
   "outputs": [
    {
     "name": "stdout",
     "output_type": "stream",
     "text": [
      "The original array C: \n",
      " [0 2 1 1 2 0 1]\n",
      "An array A such that np.bincount(A) == C \n",
      " [1 1 2 3 4 4 6]\n"
     ]
    }
   ],
   "source": [
    "C = np.bincount([1,1,2,3,4,4,6])\n",
    "print('The original array C: \\n', C)\n",
    "# Include yoru solution here\n",
    "A = np.repeat(np.arange(len(C)), C)\n",
    "print('An array A such that np.bincount(A) == C \\n', A)"
   ]
  },
  {
   "cell_type": "markdown",
   "id": "6bc9bdbc",
   "metadata": {},
   "source": [
    "**25. Find the most frequent value in the array below?**"
   ]
  },
  {
   "cell_type": "code",
   "execution_count": 27,
   "id": "594be773",
   "metadata": {},
   "outputs": [
    {
     "name": "stdout",
     "output_type": "stream",
     "text": [
      "Original array:\n",
      " [6 6 7 5 9 7 5 2 9 9 7 4 1 9 2 7 6 2 5 7 9 2 0 0 6 0 8 6 0 7 1 2 7 9 3 3 4\n",
      " 3 3 1 8 5 3 9 7 7 2 2 3 1]\n",
      "The most frequent value in the array is: 7\n"
     ]
    }
   ],
   "source": [
    "Z = np.random.randint(0,10,50)\n",
    "# Include your solution below\n",
    "print(\"Original array:\\n\",Z)\n",
    "print('The most frequent value in the array is:',np.bincount(Z).argmax()) #counts the occurrence of each element with bincount and then apply argmax to find the maximum value"
   ]
  },
  {
   "cell_type": "markdown",
   "id": "33d0cd74",
   "metadata": {},
   "source": [
    "**26. Write a function to return the n largest values of an array** "
   ]
  },
  {
   "cell_type": "code",
   "execution_count": 28,
   "id": "f238d242",
   "metadata": {},
   "outputs": [
    {
     "name": "stdout",
     "output_type": "stream",
     "text": [
      "N largest values of an array \n",
      " [9999 9998 9997 9996 9995]\n"
     ]
    }
   ],
   "source": [
    "def nlargest(a,n = 5):\n",
    "    # Include your solution here\n",
    "    n_largest_values = a[np.argpartition(-a,n)[:n]]\n",
    "    return n_largest_values\n",
    "    \n",
    "\n",
    "Z = np.arange(10000)\n",
    "np.random.shuffle(Z)\n",
    "n = 5\n",
    "print(\"N largest values of an array \\n\", nlargest(Z,n))  "
   ]
  },
  {
   "cell_type": "code",
   "execution_count": null,
   "id": "a185d692",
   "metadata": {},
   "outputs": [],
   "source": []
  }
 ],
 "metadata": {
  "kernelspec": {
   "display_name": "Python 3 (ipykernel)",
   "language": "python",
   "name": "python3"
  },
  "language_info": {
   "codemirror_mode": {
    "name": "ipython",
    "version": 3
   },
   "file_extension": ".py",
   "mimetype": "text/x-python",
   "name": "python",
   "nbconvert_exporter": "python",
   "pygments_lexer": "ipython3",
   "version": "3.7.11"
  }
 },
 "nbformat": 4,
 "nbformat_minor": 5
}
